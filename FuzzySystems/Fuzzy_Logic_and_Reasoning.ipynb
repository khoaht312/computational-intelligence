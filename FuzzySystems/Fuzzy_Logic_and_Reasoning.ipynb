{
  "nbformat": 4,
  "nbformat_minor": 0,
  "metadata": {
    "colab": {
      "provenance": [],
      "authorship_tag": "ABX9TyOprxhqCyw9XE8nG9DONilm",
      "include_colab_link": true
    },
    "kernelspec": {
      "name": "python3",
      "display_name": "Python 3"
    },
    "language_info": {
      "name": "python"
    }
  },
  "cells": [
    {
      "cell_type": "markdown",
      "metadata": {
        "id": "view-in-github",
        "colab_type": "text"
      },
      "source": [
        "<a href=\"https://colab.research.google.com/github/khoaht312/computational-intelligence/blob/main/FuzzySystems/Fuzzy_Logic_and_Reasoning.ipynb\" target=\"_parent\"><img src=\"https://colab.research.google.com/assets/colab-badge.svg\" alt=\"Open In Colab\"/></a>"
      ]
    },
    {
      "cell_type": "markdown",
      "source": [
        "# **Fuzzy Logic and Reasoning**"
      ],
      "metadata": {
        "id": "SN6wAM7AVLbK"
      }
    },
    {
      "cell_type": "markdown",
      "source": [
        "## **Fuzzy Logic**"
      ],
      "metadata": {
        "id": "Yx2LH9UnVlvq"
      }
    },
    {
      "cell_type": "markdown",
      "source": [
        "**I. Linguistics Variables and Hedges**\n",
        "\n",
        "Linguistics variables can be deivided into different categories:\n",
        "- **Quantification variables**: all, most, many, none, etc.\n",
        "- **Unsuality variables**: sometimes, frequently, always, seldon, etc.\n",
        "- **Likelihood variables**: possible, likely, certain, etc.\n",
        "\n",
        "Different kinds of hedges can be defined:\n",
        "- **Concentration hedges (very)**: where memberships values get relatively smaller. That is, the membership values get more concentrated around points with higher membership degree. Concentration hedges can be defined, in general terms, as:<br>\n",
        "$μ_{A'}(x) = μ_A(x)^p$, for $ p > 1$\n",
        "where $A'$ is the concentration of set $A$.\n",
        "\n",
        "- **Dilation hedges (somewhat, sort of, generally)**: where membership values  increases. Dilation hedges are defined, in general, as:<br>\n",
        "$μ_{A'}(x) = μ_A(x)^{1/p}$ for $p>1$\n",
        "\n",
        "- **Contrast intensification hedges (extremely)**: where membership lower than 1/2 are diminished, but membership larger than 1/2 are elevated. This hedge is defined as,<br>\n",
        "\n",
        "$\\mu_{A'}(x) = \\begin{cases}\n",
        "2^{p-1}μ_A(x)^p, & \\text{if } μ_A(x) ≤ 0.5\\\\\n",
        "1-2^{p-1}(1-μ_A(x))^p, & \\text{if } μ_A(x) > 0.5 \\end{cases}$\n",
        "\n",
        "- **Vague hedges (seldom)**: are opposite to contrast intensification hedges, having membership values altered using<br>\n",
        "\n",
        "$\\mu_{A'}(x) = \\begin{cases}\n",
        "\\sqrt{μ_A(x)/2}, & \\text{if } μ_A(x) ≤ 0.5\\\\\n",
        "1 - \\sqrt{(1-μ_A(x))}, & \\text{if } μ_A(x) > 0.5\n",
        "\\end{cases}\n",
        "$\n",
        "\n",
        "Value hedges introduce more \"fuzziness\" into the set.\n",
        "\n",
        "- **Probabilistics hedges**: which express probabilities (likely, not very likely, probably, etc)\n",
        "\n",
        "**Ví dụ**:\n",
        "\n",
        "$A$ = cold climate with $μ_A(x)$ as the MF\n",
        "\n",
        "$B$ = hot climate with $μ_B(x)$ as the MF\n",
        "\n",
        "Not cold climate = $A' = 1 - μ_A(x)$\n",
        "\n",
        "Not hot climate = $B' - μ_B(x)$\n",
        "\n",
        "Extreme climate: $A ∪ B = max(μ_A(x),μ_B(x))$\n",
        "\n",
        "Pleasant climate: $A ∩ B = min(μ_A(x),μ_B(x))$\n",
        "\n",
        "**Ví dụ 2:**\n",
        "$Age = \\{Young, Middle-aged, Old\\}$ <br>\n",
        "$Young - \\{\\text{Not young}, \\text{Very young}, \\text{Not very young}, ..\\} $<br>\n",
        "$Old - \\{\\text{Not old}, \\text{Very old}, ... \\}$ <br>\n",
        "\n",
        "\n",
        "$μ_{young}(x) = bell(x,20,2,0) = \\frac{1}{1+(\\frac{x}{20})^4}$\n",
        "\n",
        "$μ_{old}(x) = bell(x,30,3,100) = \\frac{1}{1+(\\frac{x-50}{30})^6}$\n",
        "\n",
        "$μ_{middle-aged}(x) = bell(x,30,6,50) = \\frac{1}{1+(\\frac{x-100}{30})^{12}}$\n",
        "\n",
        "$not-young = 1 - μ_{young}(x)$\n",
        "\n",
        "$young-but-not-too-young = μ_{young}(x) ∩ (μ_{young}(x))'$\n",
        "\n",
        "$μ_{ExtremelyOld}(x) = (((μ_{Old}(x))^2)^2)^2$\n",
        "\n",
        "$μ_{MoreOrLessOld}(x) = (μ_{Old}(x))^{1/2}$\n",
        "\n",
        "\n"
      ],
      "metadata": {
        "id": "U74JkrkDVpLN"
      }
    },
    {
      "cell_type": "markdown",
      "source": [
        "**II. Fuzzy Rules**"
      ],
      "metadata": {
        "id": "Ds6YdDuKdber"
      }
    },
    {
      "cell_type": "markdown",
      "source": [
        "## **Fuzzy Inferencing**"
      ],
      "metadata": {
        "id": "pDd9MKsae6e9"
      }
    },
    {
      "cell_type": "markdown",
      "source": [
        "**I. Fuzzification**\n",
        "\n",
        "Assume the fuzzy sets $A$ and $B$, and assume the corresponding membership functions have been difined already. Let $X$ denote the universe of discourse for both fuzzy sets. The fuzzification process receives the elements $a,b \\in X$ and produces the membership degrees $μ_A(a), μ_A(b),μ_B(a), μ_B(b)$.\n",
        "\n",
        "**II. Inferencing**\n",
        "\n",
        "Assume input fuzzy sets $A$ and $B$ with universe of discourse $x_1$ and the output fuzzy set $C$ with $X_2$ as universe of discourse. Consider the rule <br>\n",
        "$\\text{if } A \\text{ is a and } B \\text{ is b then } C \\text{ is c}$\n",
        "\n",
        "the firing strength is $min\\{μ_A(a),μ_B(b)\\}$\n",
        "\n",
        "For each rule $k$, the firing strength $α_k$ is thus computed.\n",
        "\n",
        "The next step is to accumulate all activated outcomes. Using max-operator:\n",
        "\n",
        "$β_i = max_{∀k}\\{α_{k_i}\\}$\n",
        "\n",
        "where $α_{k_i}$ is the firing strength of rule $k$ which has outcome $c_i$.\n",
        "\n",
        "The end result of the inferencing process is a series of fuzzified output values. Rules\n",
        "that are not activated have a zero firing strength.\n",
        "Rules can be weighted a priori with a factor (in the range [0,1]), representing the degree of confidence in that rule. These rule confidence degrees are determined by the human expert during the design process.\n",
        "\n",
        "**III. Defuzzification**\n",
        "\n",
        "**Lambda Cut Method (alpha-cut set)**:\n",
        "- In this method, a fuzzy set $A$ is transformed into a crisp set $A_λ$ for a given value of $λ(0≤λ≤1)$ as,<br>\n",
        "\n",
        "- $A_λ = \\{ x | μ_{A(x)} ≥ λ \\}$\n",
        "\n",
        "**Example 1 (Fuzzy set)**: $A = \\{ (x_1,1.0),(x_2,0.5),(x_3,0.3),(x_4,0.4) \\}$\n",
        "\n",
        "for λ = 1: $A_1 = \\{ x_1 \\}$\n",
        "\n",
        "for λ = 0.5: $A_{0.5} = \\{ x_1, x_2 \\}$\n",
        "\n",
        "for λ = 0.4: $A_{0.4} = \\{ x_1,x_2,x_4 \\}$\n",
        "\n",
        "**Example 2 (Fuzzy Relation)**: Let us define $R_λ = \\{ (x,y) | μ_R(x,y) ≥ λ \\}$ as λ cur relation of the fuzzy relation $R$.\n",
        "\n",
        "$R = \\begin{bmatrix}\n",
        "0.9 & 0 & 0.2\\\\\n",
        "1 & 0.5 & 0\\\\\n",
        "0.3 & 1 & 0\n",
        "\\end{bmatrix}$\n",
        "\n",
        "$R_{0.8} = \\begin{bmatrix}\n",
        "1 & 0 & 0\\\\\n",
        "1 & 0 & 0\\\\\n",
        "0 & 1 & 0\n",
        "\\end{bmatrix}$\n",
        "\n",
        "$R_{0.3} = \\begin{bmatrix}\n",
        "1 & 0 & 0\\\\\n",
        "1 & 1 & 0\\\\\n",
        "1 & 1 & 0\n",
        "\\end{bmatrix}$\n",
        "\n",
        "**Maxima Methods**\n",
        "- Height method: $μ_C(x^*) ≥ μ_C(x), ∀x \\in X$\n",
        "- First of maxima (FoM): $x^* = min\\{ x | μ_C(x) = h(C) \\}$\n",
        "- Last of maxima (LoM): $x^* = max\\{ x | μ_C(x) = h(C) \\}$\n",
        "- Middle of maxima (MoM): $x^* = \\frac{∑_{x_i \\in M}(x_i)}{|M|}$, where $M = \\{ x_i | μ_C(x_i) = h(C) = \\frac{a+b}{2} \\}$\n",
        "- Weighted average method: $x^* = \\frac{∑_{i=1}^nμ_{C_i}(x_i).(x_i)}{∑_{i=1}^n\\mu_{c_i}(x_i)}$\n",
        "\n",
        "$Young = \\{ (15,0.5),(20,0.8), (25,0.8), (30,0.5), (35,0.3) \\}$\n",
        "\n",
        "$FoM: x^* = 20$\n",
        "\n",
        "$LoM: x^* = 25$\n",
        "\n",
        "$MoM: x^* = \\frac{20+25}{2} = 22.5$\n",
        "\n",
        "\n",
        "**Centroid methods**\n",
        "- Center of gravity method (CoG)\n",
        "- Center of sum method (CoS)\n",
        "- Center of area method (CoA)\n",
        "\n",
        "\n"
      ],
      "metadata": {
        "id": "ZGic3XMKzOFI"
      }
    }
  ]
}