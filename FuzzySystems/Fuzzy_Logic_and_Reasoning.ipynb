{
  "nbformat": 4,
  "nbformat_minor": 0,
  "metadata": {
    "colab": {
      "provenance": [],
      "authorship_tag": "ABX9TyM+oN3EzgsFs3JbMTL91cKe",
      "include_colab_link": true
    },
    "kernelspec": {
      "name": "python3",
      "display_name": "Python 3"
    },
    "language_info": {
      "name": "python"
    }
  },
  "cells": [
    {
      "cell_type": "markdown",
      "metadata": {
        "id": "view-in-github",
        "colab_type": "text"
      },
      "source": [
        "<a href=\"https://colab.research.google.com/github/khoaht312/computational-intelligence/blob/main/FuzzySystems/Fuzzy_Logic_and_Reasoning.ipynb\" target=\"_parent\"><img src=\"https://colab.research.google.com/assets/colab-badge.svg\" alt=\"Open In Colab\"/></a>"
      ]
    },
    {
      "cell_type": "code",
      "execution_count": null,
      "metadata": {
        "id": "64AImfLAVH0g"
      },
      "outputs": [],
      "source": []
    },
    {
      "cell_type": "markdown",
      "source": [
        "# **Fuzzy Logic and Reasoning**"
      ],
      "metadata": {
        "id": "SN6wAM7AVLbK"
      }
    },
    {
      "cell_type": "markdown",
      "source": [
        "## **Fuzzy Logic**"
      ],
      "metadata": {
        "id": "Yx2LH9UnVlvq"
      }
    },
    {
      "cell_type": "markdown",
      "source": [
        "**I. Linguistics Variables and Hedges**\n",
        "\n",
        "Linguistics variables can be deivided into different categories:\n",
        "- **Quantification variables**: all, most, many, none, etc.\n",
        "- **Unsuality variables**: sometimes, frequently, always, seldon, etc.\n",
        "- **Likelihood variables**: possible, likely, certain, etc.\n",
        "\n",
        "Different kinds of hedges can be defined:\n",
        "- **Concentration hedges (very)**: where memberships values get relatively smaller. That is, the membership values get more concentrated around points with higher membership degree. Concentration hedges can be defined, in general terms, as:<br>\n",
        "$μ_{A'}(x) = μ_A(x)^p$, for $ p > 1$\n",
        "where $A'$ is the concentration of set $A$.\n",
        "\n",
        "- **Dilation hedges (somewhat, sort of, generally)**: where membership values  increases. Dilation hedges are defined, in general, as:<br>\n",
        "$μ_{A'}(x) = μ_A(x)^{1/p}$ for $p>1$\n",
        "\n",
        "- **Contrast intensification hedges (extremely)**: where membership lower than 1/2 are diminished, but membership larger than 1/2 are elevated. This hedge is defined as,<br>\n",
        "\n",
        "$\\mu_{A'}(x) = \\begin{cases}\n",
        "2^{p-1}μ_A(x)^p, & \\text{if } μ_A(x) ≤ 0.5\\\\\n",
        "1-2^{p-1}(1-μ_A(x))^p, & \\text{if } μ_A(x) > 0.5 \\end{cases}$\n",
        "\n",
        "- **Vague hedges (seldom)**: are opposite to contrast intensification hedges, having membership values altered using<br>\n",
        "\n",
        "$\\mu_{A'}(x) = \\begin{cases}\n",
        "\\sqrt{μ_A(x)/2}, & \\text{if } μ_A(x) ≤ 0.5\\\\\n",
        "1 - \\sqrt{(1-μ_A(x))}, & \\text{if } μ_A(x) > 0.5\n",
        "\\end{cases}\n",
        "$\n",
        "\n",
        "Value hedges introduce more \"fuzziness\" into the set.\n",
        "\n",
        "- **Probabilistics hedges**: which express probabilities (likely, not very likely, probably, etc)\n",
        "\n",
        "**Ví dụ**: Biến ngôn ngữ $AGE$:\n",
        "\n",
        "$T(AGE) = \\{  \\text{Rất trẻ},\\text{Trẻ}, \\text{Trung niên},\\text{Già}\\}$\n",
        "\n",
        "$μ_{\\text{rất trẻ}}(20) = 1.0,μ_{\\text{rất trẻ}}(25) = 0.8,μ_{\\text{rất trẻ}}(30) = 0.6$\n",
        "\n",
        "$μ_{\\text{trẻ}}(20) = 1.0,μ_{\\text{trẻ}}(25) = 0.9$,...\n",
        "\n"
      ],
      "metadata": {
        "id": "U74JkrkDVpLN"
      }
    },
    {
      "cell_type": "markdown",
      "source": [
        "**II. Fuzzy Rules**"
      ],
      "metadata": {
        "id": "Ds6YdDuKdber"
      }
    },
    {
      "cell_type": "markdown",
      "source": [
        "## **Fuzzy Inferencing**"
      ],
      "metadata": {
        "id": "pDd9MKsae6e9"
      }
    }
  ]
}