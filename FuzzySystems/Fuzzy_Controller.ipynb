{
  "nbformat": 4,
  "nbformat_minor": 0,
  "metadata": {
    "colab": {
      "provenance": [],
      "authorship_tag": "ABX9TyNa/di2yiLN3tBdVHIdQYF8",
      "include_colab_link": true
    },
    "kernelspec": {
      "name": "python3",
      "display_name": "Python 3"
    },
    "language_info": {
      "name": "python"
    }
  },
  "cells": [
    {
      "cell_type": "markdown",
      "metadata": {
        "id": "view-in-github",
        "colab_type": "text"
      },
      "source": [
        "<a href=\"https://colab.research.google.com/github/khoaht312/computational-intelligence/blob/main/FuzzySystems/Fuzzy_Controller.ipynb\" target=\"_parent\"><img src=\"https://colab.research.google.com/assets/colab-badge.svg\" alt=\"Open In Colab\"/></a>"
      ]
    },
    {
      "cell_type": "markdown",
      "source": [
        "# **Fuzzy Logic Controller**"
      ],
      "metadata": {
        "id": "PMnRicRGNXXN"
      }
    },
    {
      "cell_type": "markdown",
      "source": [
        "**I. Definition**\n",
        "- Concept of fuzzy theory can be applied in many applications, such as fuzzy reasoning, fuzzy clustering, fuzzy programing, etc.\n",
        "- Out of all these applications, fuzzy reasoning (Fuzzy logic controller) is an important application.\n",
        "- FLC is used when an exact mathematical formulation of the problem is not possible or very difficult.\n",
        "- Fuzzy inference is the actual process of mapping from a given input to an output using fuzzy logic.\n",
        "- FIS have been successfully applied in fields such as automatic control, data classification, decision analysis, expert systems and many more.\n",
        "\n"
      ],
      "metadata": {
        "id": "Ffv0bH4pNcjd"
      }
    },
    {
      "cell_type": "markdown",
      "source": [
        "**II. Fuzzy Inference Methods**\n",
        "\n",
        "1.**Mamdani Fuzzy Inference**\n",
        "\n",
        "- Max-Min (Clipping - Alpha cut)/ Max-Product (Scaling) Inference Method:\n",
        "  - Rule 1: $\\text{If } x_1 \\text{ is } A_1^1 \\text{ AND } x_2 \\text{ is } A_2^1 \\text{ Then } y^1 \\text{ is } B^1 $\n",
        "  - Rule 2: $\\text{If } x_1 \\text{ is} A_1^2 \\text{ OR } x_2 \\text{ is } A_2^2 \\text{ Then } y^2 \\text{ is } B^2$\n",
        "\n",
        "2.**Sugeno (Takegi-Sugeno-Kang) Fuzzy Inference**\n",
        "- $\\text{ if } x_1 \\text{ is } A_1^i \\text{ and } x_2 \\text{ is } A_2^i ... \\text{ and} x_n \\text{ is } A_n^i \\text{ then } y^i = a_0^i + a_1^ix_1 + ... + a_n^ix_n \\text{ where } a_0,a_1,...,a_n \\text{ are the constants}.$\n",
        "- $w^i = μ_{A_1}^i(x_1) × μ_{A_2}^i(x_2) × μ_{A_n}^i(x_n)$\n",
        "- Combined control action can be determined as follows:\n",
        "$x^* = \\frac{∑_{i=1}^kw^iy^i}{∑_{i=1}^kw^i} \\text{ where k indeiciates total number of rules}$\n",
        "- Fuzzy Rules of TSK Model\n",
        "  - R1: if x is small and y is small then z = -x + y + 1\n",
        "  - R2: if x is small and y is large then z = -y + 3\n",
        "  - R3: if x is large and y is small then z = -x + 3\n",
        "  - R4: if x is large and y is large then z = x + y + 2\n",
        "\n",
        "3.**Tsukamoto Fuzzy Inference**\n",
        "- $\\text{If } x_1 \\text{ is } A_1 \\text{ and } x_2 \\text{ is } A_2 \\text{ Then } y \\text{ is } B$ where the fuzzy set B has monotonic membership function (one whose successive values are increasing, decreasing or constant.).\n",
        "\n",
        "- **Weighted Average Defuzzification Method**:\n",
        "$x^* = \\frac{∑_{i=1}^kw^iy^i}{∑_{i=1}^kw^i}$\n",
        "\n",
        "\n",
        "\n",
        "\n"
      ],
      "metadata": {
        "id": "C0bMyT3pOeDA"
      }
    }
  ]
}