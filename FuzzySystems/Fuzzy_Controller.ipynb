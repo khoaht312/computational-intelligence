{
  "nbformat": 4,
  "nbformat_minor": 0,
  "metadata": {
    "colab": {
      "provenance": [],
      "authorship_tag": "ABX9TyOta5y3XuTJ+IOvB+H1MG6Q",
      "include_colab_link": true
    },
    "kernelspec": {
      "name": "python3",
      "display_name": "Python 3"
    },
    "language_info": {
      "name": "python"
    }
  },
  "cells": [
    {
      "cell_type": "markdown",
      "metadata": {
        "id": "view-in-github",
        "colab_type": "text"
      },
      "source": [
        "<a href=\"https://colab.research.google.com/github/khoaht312/computational-intelligence/blob/main/FuzzySystems/Fuzzy_Controller.ipynb\" target=\"_parent\"><img src=\"https://colab.research.google.com/assets/colab-badge.svg\" alt=\"Open In Colab\"/></a>"
      ]
    },
    {
      "cell_type": "markdown",
      "source": [
        "# **Fuzzy Logic Controller**"
      ],
      "metadata": {
        "id": "PMnRicRGNXXN"
      }
    },
    {
      "cell_type": "markdown",
      "source": [
        "**I. Definition**\n",
        "- Concept of fuzzy theory can be applied in many applications, such as fuzzy reasoning, fuzzy clustering, fuzzy programing, etc.\n",
        "- Out of all these applications, fuzzy reasoning (Fuzzy logic controller) is an important application.\n",
        "- FLC is used when an exact mathematical formulation of the problem is not possible or very difficult.\n",
        "- Fuzzy inference is the actual process of mapping from a given input to an output using fuzzy logic.\n",
        "- FIS have been successfully applied in fields such as automatic control, data classification, decision analysis, expert systems and many more.\n",
        "-\n",
        "\n",
        "\n"
      ],
      "metadata": {
        "id": "Ffv0bH4pNcjd"
      }
    },
    {
      "cell_type": "markdown",
      "source": [
        "**II. Fuzzy Inference Methods**\n",
        "\n",
        "1.**Mamdani Fuzzy Inference**\n",
        "\n",
        "- Max-Min / Max-Product Inference Method:\n",
        "  - Rule 1: $\\text{If } x_1 \\text{ is } A_1^1 \\text{ and } x_2 \\text{ is } A_2^1 \\text{ Then } y^1 \\text{ is } B^1 $\n",
        "  - Rule 2: $\\text{If } x_1 \\text{ is} A_1^2 \\text{ or } x_2 \\text{ is } A_2^2 \\text{ Then } y^2 \\text{ is } B^2$\n",
        "\n",
        "2.**Sugeno (Takegi-Sugeno-Kang) Fuzzy Inference**\n",
        "\n",
        "\n"
      ],
      "metadata": {
        "id": "C0bMyT3pOeDA"
      }
    }
  ]
}